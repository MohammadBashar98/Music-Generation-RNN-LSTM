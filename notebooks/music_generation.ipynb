{
 "cells": [
  {
   "cell_type": "code",
   "execution_count": null,
   "id": "7a3b389b-fea8-44e6-9287-2c2cb94092b3",
   "metadata": {},
   "outputs": [],
   "source": [
    "# Imports\n",
    "import tensorflow as tf\n",
    "import numpy as np\n",
    "import pretty_midi\n",
    "import matplotlib.pyplot as plt\n",
    "\n",
    "# Load model\n",
    "model = tf.keras.models.load_model('models/trained_model.h5')\n",
    "\n",
    "# Generate note function\n",
    "def Generate_note(notes, model, temperature=1.0):\n",
    "    inputs = tf.expand_dims(notes, 0)\n",
    "    predictions = model.predict(inputs)\n",
    "\n",
    "    pitch_logits = predictions[0]\n",
    "    pitch = tf.random.categorical(pitch_logits / temperature, num_samples=1)\n",
    "    pitch = tf.squeeze(pitch, axis=-1)\n",
    "\n",
    "    step = predictions[1][..., 0]\n",
    "    duration = predictions[2][..., 0]\n",
    "    velocity = predictions[3][..., 0]\n",
    "\n",
    "    return pitch.numpy()[0], step.numpy()[0], duration.numpy()[0], int(velocity.numpy()[0])\n",
    "\n",
    "# Generate sequence\n",
    "seed_sequence = train_notes[:25]\n",
    "generated = []\n",
    "\n",
    "for _ in range(120):\n",
    "    pitch, step, duration, velocity = Generate_note(seed_sequence, model, temperature=1.0)\n",
    "    last_start = seed_sequence[-1][1]\n",
    "    new_note = [pitch, last_start + step, last_start + step + duration, velocity]\n",
    "    generated.append(new_note)\n",
    "    seed_sequence = np.vstack([seed_sequence[1:], new_note])\n",
    "\n",
    "generated_notes = pd.DataFrame(generated, columns=['pitch', 'start', 'end', 'velocity'])\n",
    "\n",
    "# Save MIDI\n",
    "output_pm = construct_midi(generated_notes)\n",
    "output_pm.write(\"output/sample1.mid\")\n",
    "\n",
    "# Visualize\n",
    "Plot_notes(generated_notes)\n",
    "plot_dist(generated_notes)\n"
   ]
  }
 ],
 "metadata": {
  "kernelspec": {
   "display_name": "Python 3 (ipykernel)",
   "language": "python",
   "name": "python3"
  },
  "language_info": {
   "codemirror_mode": {
    "name": "ipython",
    "version": 3
   },
   "file_extension": ".py",
   "mimetype": "text/x-python",
   "name": "python",
   "nbconvert_exporter": "python",
   "pygments_lexer": "ipython3",
   "version": "3.9.18"
  }
 },
 "nbformat": 4,
 "nbformat_minor": 5
}
